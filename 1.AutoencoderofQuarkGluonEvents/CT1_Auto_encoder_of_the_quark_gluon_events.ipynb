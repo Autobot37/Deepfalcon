{
  "metadata": {
    "colab": {
      "provenance": [],
      "gpuType": "T4",
      "name": "CT1.Auto-encoder of the quark/gluon events"
    },
    "kernelspec": {
      "name": "python3",
      "display_name": "Python 3",
      "language": "python"
    },
    "language_info": {
      "name": "python",
      "version": "3.10.13",
      "mimetype": "text/x-python",
      "codemirror_mode": {
        "name": "ipython",
        "version": 3
      },
      "pygments_lexer": "ipython3",
      "nbconvert_exporter": "python",
      "file_extension": ".py"
    },
    "accelerator": "GPU",
    "kaggle": {
      "accelerator": "gpu",
      "dataSources": [],
      "dockerImageVersionId": 30674,
      "isInternetEnabled": true,
      "language": "python",
      "sourceType": "notebook",
      "isGpuEnabled": true
    }
  },
  "nbformat_minor": 0,
  "nbformat": 4,
  "cells": [
    {
      "cell_type": "code",
      "source": [
        "!pip install gdown\n",
        "!pip install h5py\n",
        "import gdown\n",
        "import gdown\n",
        "import zipfile\n",
        "import os\n",
        "url = 'https://drive.google.com/uc?id=1WO2K-SfU2dntGU4Bb3IYBp9Rh7rtTYEr'\n",
        "output_path = 'large_file.hdf5'\n",
        "gdown.download(url, output_path, quiet=False)"
      ],
      "metadata": {
        "colab": {
          "base_uri": "https://localhost:8080/",
          "height": 365
        },
        "id": "lektu57lfQ5v",
        "outputId": "46313673-d5e6-4385-9a1b-112ee4a54166",
        "execution": {
          "iopub.status.busy": "2024-03-31T09:20:22.593234Z",
          "iopub.execute_input": "2024-03-31T09:20:22.59364Z",
          "iopub.status.idle": "2024-03-31T09:20:50.822827Z",
          "shell.execute_reply.started": "2024-03-31T09:20:22.593613Z",
          "shell.execute_reply": "2024-03-31T09:20:50.821744Z"
        },
        "trusted": true
      },
      "execution_count": null,
      "outputs": [
        {
          "name": "stdout",
          "text": "Requirement already satisfied: gdown in /opt/conda/lib/python3.10/site-packages (5.1.0)\nRequirement already satisfied: beautifulsoup4 in /opt/conda/lib/python3.10/site-packages (from gdown) (4.12.2)\nRequirement already satisfied: filelock in /opt/conda/lib/python3.10/site-packages (from gdown) (3.13.1)\nRequirement already satisfied: requests[socks] in /opt/conda/lib/python3.10/site-packages (from gdown) (2.31.0)\nRequirement already satisfied: tqdm in /opt/conda/lib/python3.10/site-packages (from gdown) (4.66.1)\nRequirement already satisfied: soupsieve>1.2 in /opt/conda/lib/python3.10/site-packages (from beautifulsoup4->gdown) (2.5)\nRequirement already satisfied: charset-normalizer<4,>=2 in /opt/conda/lib/python3.10/site-packages (from requests[socks]->gdown) (3.3.2)\nRequirement already satisfied: idna<4,>=2.5 in /opt/conda/lib/python3.10/site-packages (from requests[socks]->gdown) (3.6)\nRequirement already satisfied: urllib3<3,>=1.21.1 in /opt/conda/lib/python3.10/site-packages (from requests[socks]->gdown) (1.26.18)\nRequirement already satisfied: certifi>=2017.4.17 in /opt/conda/lib/python3.10/site-packages (from requests[socks]->gdown) (2024.2.2)\nRequirement already satisfied: PySocks!=1.5.7,>=1.5.6 in /opt/conda/lib/python3.10/site-packages (from requests[socks]->gdown) (1.7.1)\nRequirement already satisfied: h5py in /opt/conda/lib/python3.10/site-packages (3.10.0)\nRequirement already satisfied: numpy>=1.17.3 in /opt/conda/lib/python3.10/site-packages (from h5py) (1.26.4)\n",
          "output_type": "stream"
        },
        {
          "name": "stderr",
          "text": "Downloading...\nFrom (original): https://drive.google.com/uc?id=1WO2K-SfU2dntGU4Bb3IYBp9Rh7rtTYEr\nFrom (redirected): https://drive.google.com/uc?id=1WO2K-SfU2dntGU4Bb3IYBp9Rh7rtTYEr&confirm=t&uuid=cc2d4e26-6428-4dfd-aac7-16a4971961f2\nTo: /kaggle/working/large_file.hdf5\n100%|██████████| 701M/701M [00:02<00:00, 268MB/s]  \n",
          "output_type": "stream"
        },
        {
          "execution_count": 2,
          "output_type": "execute_result",
          "data": {
            "text/plain": "'large_file.hdf5'"
          },
          "metadata": {}
        }
      ]
    },
    {
      "cell_type": "code",
      "source": [
        "import h5py\n",
        "\n",
        "def print_hdf5_file_contents(file, indent=0):\n",
        "    for key in file.keys():\n",
        "        if isinstance(file[key], h5py.Group):\n",
        "            print(\" \" * indent + f\"Group: {key}\")\n",
        "            print_hdf5_file_contents(file[key], indent + 4)\n",
        "        elif isinstance(file[key], h5py.Dataset):\n",
        "            print(\" \" * indent + f\"Dataset: {key} (Shape: {file[key].shape}, Dtype: {file[key].dtype})\")\n",
        "        else:\n",
        "            print(\" \" * indent + f\"Attribute: {key} = {file[key].value}\")\n",
        "\n",
        "with h5py.File('large_file.hdf5', 'r') as file:\n",
        "    print_hdf5_file_contents(file)"
      ],
      "metadata": {
        "colab": {
          "base_uri": "https://localhost:8080/"
        },
        "id": "nm3xJBLufVrk",
        "outputId": "272341b7-fbeb-4137-d3a6-9cd02a1ab6d5",
        "execution": {
          "iopub.status.busy": "2024-03-31T09:20:50.823992Z",
          "iopub.execute_input": "2024-03-31T09:20:50.824278Z",
          "iopub.status.idle": "2024-03-31T09:20:50.98285Z",
          "shell.execute_reply.started": "2024-03-31T09:20:50.824249Z",
          "shell.execute_reply": "2024-03-31T09:20:50.981805Z"
        },
        "trusted": true
      },
      "execution_count": null,
      "outputs": [
        {
          "name": "stdout",
          "text": "Dataset: X_jets (Shape: (139306, 125, 125, 3), Dtype: float32)\nDataset: m0 (Shape: (139306,), Dtype: float32)\nDataset: pt (Shape: (139306,), Dtype: float32)\nDataset: y (Shape: (139306,), Dtype: float32)\n",
          "output_type": "stream"
        }
      ]
    },
    {
      "cell_type": "code",
      "source": [
        "import matplotlib.pyplot as plt\n",
        "import numpy as np\n",
        "train_imgs = None\n",
        "test_imgs = None\n",
        "with h5py.File('large_file.hdf5', 'r') as file:\n",
        "    train_imgs = np.array(file['X_jets'][:4096])\n",
        "    test_imgs = np.array(file['X_jets'][4096:4096+1024])\n",
        "    print(train_imgs[0].shape)"
      ],
      "metadata": {
        "colab": {
          "base_uri": "https://localhost:8080/"
        },
        "id": "HxIe2y34fWer",
        "outputId": "b58d3519-9ea0-48b4-92cc-71ffbd9b7085",
        "execution": {
          "iopub.status.busy": "2024-03-31T09:20:50.98473Z",
          "iopub.execute_input": "2024-03-31T09:20:50.98506Z",
          "iopub.status.idle": "2024-03-31T09:20:56.807461Z",
          "shell.execute_reply.started": "2024-03-31T09:20:50.985034Z",
          "shell.execute_reply": "2024-03-31T09:20:56.806581Z"
        },
        "trusted": true
      },
      "execution_count": null,
      "outputs": [
        {
          "name": "stdout",
          "text": "(125, 125, 3)\n",
          "output_type": "stream"
        }
      ]
    },
    {
      "cell_type": "code",
      "source": [
        "import torch\n",
        "device = \"cuda\" if torch.cuda.is_available() else \"cpu\""
      ],
      "metadata": {
        "id": "DaBiIMF1fWcB",
        "execution": {
          "iopub.status.busy": "2024-03-31T09:20:56.808448Z",
          "iopub.execute_input": "2024-03-31T09:20:56.808724Z",
          "iopub.status.idle": "2024-03-31T09:21:00.676939Z",
          "shell.execute_reply.started": "2024-03-31T09:20:56.8087Z",
          "shell.execute_reply": "2024-03-31T09:21:00.675789Z"
        },
        "trusted": true
      },
      "execution_count": null,
      "outputs": []
    },
    {
      "cell_type": "markdown",
      "source": [
        "## Converting all 3 features to 3 channels image"
      ],
      "metadata": {
        "id": "2SPy2tdx2zlA"
      }
    },
    {
      "cell_type": "code",
      "source": [
        "import torch\n",
        "import torch.nn as nn\n",
        "import torch.optim as optim\n",
        "import torch.nn.functional as F\n",
        "import torchvision.transforms.v2 as transforms\n",
        "class Data(torch.utils.data.Dataset):\n",
        "    def __init__(self,imgs):\n",
        "        super().__init__()\n",
        "        self.transform = transforms.Compose([\n",
        "            transforms.ToTensor(),\n",
        "#             transforms.Normalize([0.,0.,0.],[1.,1.,1.]),\n",
        "        ])\n",
        "        self.imgs = imgs\n",
        "    def __len__(self):\n",
        "        return len(self.imgs)\n",
        "    def __getitem__(self,idx):\n",
        "        img = self.transform(self.imgs[idx])\n",
        "        img2 = torch.zeros((3,128,128)).to(img.dtype)\n",
        "        img2[:,:125,:125] = img\n",
        "        return img2\n",
        "\n",
        "train_loader = torch.utils.data.DataLoader(Data(train_imgs), batch_size=64)\n",
        "val_loader = torch.utils.data.DataLoader(Data(test_imgs), batch_size=64)"
      ],
      "metadata": {
        "colab": {
          "base_uri": "https://localhost:8080/"
        },
        "id": "8dFwy4YufWaG",
        "outputId": "193da575-9bc5-4ecc-dbb1-7c8c436a214c",
        "execution": {
          "iopub.status.busy": "2024-03-31T09:21:00.678494Z",
          "iopub.execute_input": "2024-03-31T09:21:00.679533Z",
          "iopub.status.idle": "2024-03-31T09:21:03.522614Z",
          "shell.execute_reply.started": "2024-03-31T09:21:00.679491Z",
          "shell.execute_reply": "2024-03-31T09:21:03.521681Z"
        },
        "trusted": true
      },
      "execution_count": null,
      "outputs": [
        {
          "name": "stderr",
          "text": "/opt/conda/lib/python3.10/site-packages/torchvision/transforms/v2/_deprecated.py:43: UserWarning: The transform `ToTensor()` is deprecated and will be removed in a future release. Instead, please use `v2.Compose([v2.ToImage(), v2.ToDtype(torch.float32, scale=True)])`.\n  warnings.warn(\n",
          "output_type": "stream"
        }
      ]
    },
    {
      "cell_type": "code",
      "source": [
        "for imgs in val_loader:\n",
        "    print(imgs.shape,imgs.dtype)\n",
        "    break"
      ],
      "metadata": {
        "colab": {
          "base_uri": "https://localhost:8080/"
        },
        "id": "UwgcuSZdfWX1",
        "outputId": "33a54427-c8f1-4a57-ade9-24fc50f7018e",
        "execution": {
          "iopub.status.busy": "2024-03-31T09:21:03.523899Z",
          "iopub.execute_input": "2024-03-31T09:21:03.524774Z",
          "iopub.status.idle": "2024-03-31T09:21:03.606185Z",
          "shell.execute_reply.started": "2024-03-31T09:21:03.524738Z",
          "shell.execute_reply": "2024-03-31T09:21:03.60517Z"
        },
        "trusted": true
      },
      "execution_count": null,
      "outputs": [
        {
          "name": "stdout",
          "text": "torch.Size([64, 3, 128, 128]) torch.float32\n",
          "output_type": "stream"
        }
      ]
    },
    {
      "cell_type": "markdown",
      "source": [
        "## Variational Autoencoder with Reparametrization trick"
      ],
      "metadata": {
        "id": "7pZNVLY-2zlB"
      }
    },
    {
      "cell_type": "code",
      "source": [
        "import torch\n",
        "import torch.nn as nn\n",
        "import torch.optim as optim\n",
        "from torch.utils.data import DataLoader\n",
        "from tqdm import tqdm\n",
        "\n",
        "class VAE(nn.Module):\n",
        "    def __init__(self, latent_dim):\n",
        "        super(VAE, self).__init__()\n",
        "        self.encoder = nn.Sequential(\n",
        "            nn.Conv2d(3, 64, kernel_size=3, stride=2, padding=1),  # Increased channels\n",
        "            nn.BatchNorm2d(64),\n",
        "            nn.ReLU(),\n",
        "            nn.Conv2d(64, 128, kernel_size=3, stride=2, padding=1),  # Increased channels\n",
        "            nn.BatchNorm2d(128),\n",
        "            nn.ReLU(),\n",
        "            nn.Conv2d(128, 256, kernel_size=3, stride=2, padding=1),  # Increased channels\n",
        "            nn.BatchNorm2d(256),\n",
        "            nn.ReLU(),\n",
        "            nn.Flatten(),\n",
        "            nn.Linear(256 * 16 * 16, latent_dim * 2),\n",
        "            nn.BatchNorm1d(latent_dim * 2)\n",
        "        )\n",
        "\n",
        "        self.decoder = nn.Sequential(\n",
        "            nn.Linear(latent_dim, 256 * 16 * 16),\n",
        "            nn.BatchNorm1d(256 * 16 * 16),\n",
        "            nn.Unflatten(1, (256, 16, 16)),\n",
        "            nn.ConvTranspose2d(256, 128, kernel_size=3, stride=2, padding=1, output_padding=1),\n",
        "            nn.BatchNorm2d(128),\n",
        "            nn.ReLU(),\n",
        "            nn.ConvTranspose2d(128, 64, kernel_size=3, stride=2, padding=1, output_padding=1),\n",
        "            nn.BatchNorm2d(64),\n",
        "            nn.ReLU(),\n",
        "            nn.ConvTranspose2d(64, 3, kernel_size=3, stride=2, padding=1, output_padding=1),\n",
        "            nn.Sigmoid()\n",
        "        )\n",
        "\n",
        "    def encode(self, x):\n",
        "        z = self.encoder(x)\n",
        "        mu, log_var = torch.chunk(z, 2, dim=1)\n",
        "        return mu, log_var\n",
        "\n",
        "    def decode(self, z):\n",
        "        return self.decoder(z)\n",
        "    ## to ensure gradient flow\n",
        "    def reparameterize(self, mu, log_var):\n",
        "        std = torch.exp(0.5 * log_var)\n",
        "        eps = torch.randn_like(std)\n",
        "        return mu + eps * std\n",
        "\n",
        "    def forward(self, x):\n",
        "        mu, log_var = self.encode(x)\n",
        "        z = self.reparameterize(mu, log_var)\n",
        "        x_recon = self.decode(z)\n",
        "        return x_recon, mu, log_var\n",
        "\n",
        "latent_dim = 64\n",
        "learning_rate = 0.1\n",
        "num_epochs = 50\n",
        "batch_size = 64\n",
        "\n",
        "model = VAE(latent_dim).to(device)\n",
        "reconstruction_loss = nn.MSELoss(reduction='sum')\n",
        "optimizer = optim.Adam(model.parameters(), lr=learning_rate)\n",
        "\n",
        "prev_loss = float('inf')\n",
        "best_loss = float('inf')\n",
        "for epoch in range(num_epochs):\n",
        "    train_loss = 0.0\n",
        "    val_loss = 0.0\n",
        "\n",
        "    # Validation loop\n",
        "    model.eval()\n",
        "    val_loader = tqdm(val_loader, desc=f'Epoch {epoch + 1}/{num_epochs} (val)')\n",
        "    for batch_idx, data in enumerate(val_loader):\n",
        "        data = data.to(device)\n",
        "        with torch.no_grad():\n",
        "            recon_batch, mu, log_var = model(data)\n",
        "            loss = reconstruction_loss(recon_batch, data)\n",
        "            kl_divergence = -0.5 * torch.sum(1 + log_var - mu.pow(2) - log_var.exp())##kl divergence loss\n",
        "            loss += 0.5*kl_divergence\n",
        "            val_loss += loss.item()\n",
        "            val_loader.set_postfix(val_loss=val_loss / ((batch_idx + 1)))\n",
        "        del data\n",
        "\n",
        "    if val_loss / len(val_loader) >= prev_loss:\n",
        "        learning_rate *= 0.1\n",
        "        optimizer = optim.Adam(model.parameters(), lr=learning_rate)\n",
        "        print(f\"Changing learning rate to {learning_rate}\")\n",
        "    prev_loss = val_loss/(len(val_loader))\n",
        "\n",
        "    # Training loop\n",
        "    model.train()\n",
        "    train_loader = tqdm(train_loader, desc=f'Epoch {epoch + 1}/{num_epochs} (train)')\n",
        "    for batch_idx, data in enumerate(train_loader):\n",
        "        data = data.to(device)\n",
        "        optimizer.zero_grad()\n",
        "        recon_batch, mu, log_var = model(data)\n",
        "        loss = reconstruction_loss(recon_batch, data)\n",
        "        kl_divergence = -0.5 * torch.sum(1 + log_var - mu.pow(2) - log_var.exp())\n",
        "        loss += 0.5*kl_divergence\n",
        "        loss.backward()\n",
        "        optimizer.step()\n",
        "        train_loss += loss.item()\n",
        "        train_loader.set_postfix(train_loss=train_loss / ((batch_idx + 1)))\n",
        "    del data\n",
        "\n",
        "    if val_loss<best_loss:\n",
        "        best_loss = val_loss\n",
        "        torch.save(model.state_dict(),\"model.pth\")\n",
        "        print(\"saved model to model.pth\")"
      ],
      "metadata": {
        "colab": {
          "base_uri": "https://localhost:8080/"
        },
        "id": "m6OKqyc1fWVi",
        "outputId": "47ac5adf-6b87-478b-8820-cf0b23fe9aa1",
        "execution": {
          "iopub.status.busy": "2024-03-31T09:27:30.057119Z",
          "iopub.execute_input": "2024-03-31T09:27:30.057936Z",
          "iopub.status.idle": "2024-03-31T09:30:33.374167Z",
          "shell.execute_reply.started": "2024-03-31T09:27:30.0579Z",
          "shell.execute_reply": "2024-03-31T09:30:33.373142Z"
        },
        "trusted": true
      },
      "execution_count": null,
      "outputs": [
        {
          "name": "stderr",
          "text": "Epoch 1/50 (val): 100%|██████████| 16/16 [00:00<00:00, 37.21it/s, val_loss=7.82e+5]\nEpoch 1/50 (train): 100%|██████████| 64/64 [00:03<00:00, 20.46it/s, train_loss=1.75e+4]\n",
          "output_type": "stream"
        },
        {
          "name": "stdout",
          "text": "saved model to model.pth\n",
          "output_type": "stream"
        },
        {
          "name": "stderr",
          "text": "Epoch 2/50 (val): 100%|██████████| 16/16 [00:00<00:00, 36.86it/s, val_loss=68.6]\nEpoch 2/50 (train): 100%|██████████| 64/64 [00:03<00:00, 20.26it/s, train_loss=66.1]\n",
          "output_type": "stream"
        },
        {
          "name": "stdout",
          "text": "saved model to model.pth\n",
          "output_type": "stream"
        },
        {
          "name": "stderr",
          "text": "Epoch 3/50 (val): 100%|██████████| 16/16 [00:00<00:00, 38.99it/s, val_loss=43.2]\nEpoch 3/50 (train): 100%|██████████| 64/64 [00:03<00:00, 20.43it/s, train_loss=47.5]\n",
          "output_type": "stream"
        },
        {
          "name": "stdout",
          "text": "saved model to model.pth\n",
          "output_type": "stream"
        },
        {
          "name": "stderr",
          "text": "Epoch 4/50 (val): 100%|██████████| 16/16 [00:00<00:00, 39.04it/s, val_loss=36]  \nEpoch 4/50 (train): 100%|██████████| 64/64 [00:03<00:00, 20.50it/s, train_loss=40.8]\n",
          "output_type": "stream"
        },
        {
          "name": "stdout",
          "text": "saved model to model.pth\n",
          "output_type": "stream"
        },
        {
          "name": "stderr",
          "text": "Epoch 5/50 (val): 100%|██████████| 16/16 [00:00<00:00, 36.92it/s, val_loss=31.9]\nEpoch 5/50 (train): 100%|██████████| 64/64 [00:03<00:00, 20.25it/s, train_loss=36.7]\n",
          "output_type": "stream"
        },
        {
          "name": "stdout",
          "text": "saved model to model.pth\n",
          "output_type": "stream"
        },
        {
          "name": "stderr",
          "text": "Epoch 6/50 (val): 100%|██████████| 16/16 [00:00<00:00, 39.17it/s, val_loss=29]  \nEpoch 6/50 (train): 100%|██████████| 64/64 [00:03<00:00, 20.62it/s, train_loss=33.7]\n",
          "output_type": "stream"
        },
        {
          "name": "stdout",
          "text": "saved model to model.pth\n",
          "output_type": "stream"
        },
        {
          "name": "stderr",
          "text": "Epoch 7/50 (val): 100%|██████████| 16/16 [00:00<00:00, 38.57it/s, val_loss=26.8]\nEpoch 7/50 (train): 100%|██████████| 64/64 [00:03<00:00, 20.49it/s, train_loss=31.4]\n",
          "output_type": "stream"
        },
        {
          "name": "stdout",
          "text": "saved model to model.pth\n",
          "output_type": "stream"
        },
        {
          "name": "stderr",
          "text": "Epoch 8/50 (val): 100%|██████████| 16/16 [00:00<00:00, 38.84it/s, val_loss=25.1]\nEpoch 8/50 (train): 100%|██████████| 64/64 [00:03<00:00, 20.74it/s, train_loss=29.6]\n",
          "output_type": "stream"
        },
        {
          "name": "stdout",
          "text": "saved model to model.pth\n",
          "output_type": "stream"
        },
        {
          "name": "stderr",
          "text": "Epoch 9/50 (val): 100%|██████████| 16/16 [00:00<00:00, 39.88it/s, val_loss=23.8]\nEpoch 9/50 (train): 100%|██████████| 64/64 [00:03<00:00, 20.56it/s, train_loss=28.2]\n",
          "output_type": "stream"
        },
        {
          "name": "stdout",
          "text": "saved model to model.pth\n",
          "output_type": "stream"
        },
        {
          "name": "stderr",
          "text": "Epoch 10/50 (val): 100%|██████████| 16/16 [00:00<00:00, 38.73it/s, val_loss=22.8]\nEpoch 10/50 (train): 100%|██████████| 64/64 [00:03<00:00, 20.37it/s, train_loss=27.2]\n",
          "output_type": "stream"
        },
        {
          "name": "stdout",
          "text": "saved model to model.pth\n",
          "output_type": "stream"
        },
        {
          "name": "stderr",
          "text": "Epoch 11/50 (val): 100%|██████████| 16/16 [00:00<00:00, 38.63it/s, val_loss=22]  \nEpoch 11/50 (train): 100%|██████████| 64/64 [00:03<00:00, 20.44it/s, train_loss=26.4]\n",
          "output_type": "stream"
        },
        {
          "name": "stdout",
          "text": "saved model to model.pth\n",
          "output_type": "stream"
        },
        {
          "name": "stderr",
          "text": "Epoch 12/50 (val): 100%|██████████| 16/16 [00:00<00:00, 38.77it/s, val_loss=21.4]\nEpoch 12/50 (train): 100%|██████████| 64/64 [00:03<00:00, 20.79it/s, train_loss=25.8]\n",
          "output_type": "stream"
        },
        {
          "name": "stdout",
          "text": "saved model to model.pth\n",
          "output_type": "stream"
        },
        {
          "name": "stderr",
          "text": "Epoch 13/50 (val): 100%|██████████| 16/16 [00:00<00:00, 38.88it/s, val_loss=21]  \nEpoch 13/50 (train): 100%|██████████| 64/64 [00:03<00:00, 20.44it/s, train_loss=25.3]\n",
          "output_type": "stream"
        },
        {
          "name": "stdout",
          "text": "saved model to model.pth\n",
          "output_type": "stream"
        },
        {
          "name": "stderr",
          "text": "Epoch 14/50 (val): 100%|██████████| 16/16 [00:00<00:00, 39.16it/s, val_loss=20.6]\nEpoch 14/50 (train): 100%|██████████| 64/64 [00:03<00:00, 20.48it/s, train_loss=24.9]\n",
          "output_type": "stream"
        },
        {
          "name": "stdout",
          "text": "saved model to model.pth\n",
          "output_type": "stream"
        },
        {
          "name": "stderr",
          "text": "Epoch 15/50 (val): 100%|██████████| 16/16 [00:00<00:00, 38.27it/s, val_loss=20.3]\nEpoch 15/50 (train): 100%|██████████| 64/64 [00:03<00:00, 20.64it/s, train_loss=24.6]\n",
          "output_type": "stream"
        },
        {
          "name": "stdout",
          "text": "saved model to model.pth\n",
          "output_type": "stream"
        },
        {
          "name": "stderr",
          "text": "Epoch 16/50 (val): 100%|██████████| 16/16 [00:00<00:00, 38.16it/s, val_loss=20]  \nEpoch 16/50 (train): 100%|██████████| 64/64 [00:03<00:00, 20.62it/s, train_loss=24.2]\n",
          "output_type": "stream"
        },
        {
          "name": "stdout",
          "text": "saved model to model.pth\n",
          "output_type": "stream"
        },
        {
          "name": "stderr",
          "text": "Epoch 17/50 (val): 100%|██████████| 16/16 [00:00<00:00, 38.91it/s, val_loss=19.8]\nEpoch 17/50 (train): 100%|██████████| 64/64 [00:03<00:00, 20.47it/s, train_loss=24]  \n",
          "output_type": "stream"
        },
        {
          "name": "stdout",
          "text": "saved model to model.pth\n",
          "output_type": "stream"
        },
        {
          "name": "stderr",
          "text": "Epoch 18/50 (val): 100%|██████████| 16/16 [00:00<00:00, 38.50it/s, val_loss=19.6]\nEpoch 18/50 (train): 100%|██████████| 64/64 [00:03<00:00, 20.23it/s, train_loss=23.7]\n",
          "output_type": "stream"
        },
        {
          "name": "stdout",
          "text": "saved model to model.pth\n",
          "output_type": "stream"
        },
        {
          "name": "stderr",
          "text": "Epoch 19/50 (val): 100%|██████████| 16/16 [00:00<00:00, 35.15it/s, val_loss=19.3]\nEpoch 19/50 (train): 100%|██████████| 64/64 [00:03<00:00, 20.40it/s, train_loss=23.4]\n",
          "output_type": "stream"
        },
        {
          "name": "stdout",
          "text": "saved model to model.pth\n",
          "output_type": "stream"
        },
        {
          "name": "stderr",
          "text": "Epoch 20/50 (val): 100%|██████████| 16/16 [00:00<00:00, 38.99it/s, val_loss=19.1]\nEpoch 20/50 (train): 100%|██████████| 64/64 [00:03<00:00, 20.67it/s, train_loss=23.2]\n",
          "output_type": "stream"
        },
        {
          "name": "stdout",
          "text": "saved model to model.pth\n",
          "output_type": "stream"
        },
        {
          "name": "stderr",
          "text": "Epoch 21/50 (val): 100%|██████████| 16/16 [00:00<00:00, 39.20it/s, val_loss=18.9]\nEpoch 21/50 (train): 100%|██████████| 64/64 [00:03<00:00, 20.58it/s, train_loss=22.9]\n",
          "output_type": "stream"
        },
        {
          "name": "stdout",
          "text": "saved model to model.pth\n",
          "output_type": "stream"
        },
        {
          "name": "stderr",
          "text": "Epoch 22/50 (val): 100%|██████████| 16/16 [00:00<00:00, 39.21it/s, val_loss=18.7]\nEpoch 22/50 (train): 100%|██████████| 64/64 [00:03<00:00, 20.46it/s, train_loss=22.7]\n",
          "output_type": "stream"
        },
        {
          "name": "stdout",
          "text": "saved model to model.pth\n",
          "output_type": "stream"
        },
        {
          "name": "stderr",
          "text": "Epoch 23/50 (val): 100%|██████████| 16/16 [00:00<00:00, 39.70it/s, val_loss=18.5]\nEpoch 23/50 (train): 100%|██████████| 64/64 [00:03<00:00, 20.58it/s, train_loss=22.4]\n",
          "output_type": "stream"
        },
        {
          "name": "stdout",
          "text": "saved model to model.pth\n",
          "output_type": "stream"
        },
        {
          "name": "stderr",
          "text": "Epoch 24/50 (val): 100%|██████████| 16/16 [00:00<00:00, 38.68it/s, val_loss=18.3]\nEpoch 24/50 (train): 100%|██████████| 64/64 [00:03<00:00, 20.65it/s, train_loss=22.2]\n",
          "output_type": "stream"
        },
        {
          "name": "stdout",
          "text": "saved model to model.pth\n",
          "output_type": "stream"
        },
        {
          "name": "stderr",
          "text": "Epoch 25/50 (val): 100%|██████████| 16/16 [00:00<00:00, 38.03it/s, val_loss=18.1]\nEpoch 25/50 (train): 100%|██████████| 64/64 [00:03<00:00, 20.68it/s, train_loss=21.9]\n",
          "output_type": "stream"
        },
        {
          "name": "stdout",
          "text": "saved model to model.pth\n",
          "output_type": "stream"
        },
        {
          "name": "stderr",
          "text": "Epoch 26/50 (val): 100%|██████████| 16/16 [00:00<00:00, 38.87it/s, val_loss=17.9]\nEpoch 26/50 (train): 100%|██████████| 64/64 [00:03<00:00, 20.32it/s, train_loss=21.7]\n",
          "output_type": "stream"
        },
        {
          "name": "stdout",
          "text": "saved model to model.pth\n",
          "output_type": "stream"
        },
        {
          "name": "stderr",
          "text": "Epoch 27/50 (val): 100%|██████████| 16/16 [00:00<00:00, 39.08it/s, val_loss=17.7]\nEpoch 27/50 (train): 100%|██████████| 64/64 [00:03<00:00, 20.22it/s, train_loss=21.5]\n",
          "output_type": "stream"
        },
        {
          "name": "stdout",
          "text": "saved model to model.pth\n",
          "output_type": "stream"
        },
        {
          "name": "stderr",
          "text": "Epoch 28/50 (val): 100%|██████████| 16/16 [00:00<00:00, 39.65it/s, val_loss=17.6]\nEpoch 28/50 (train): 100%|██████████| 64/64 [00:03<00:00, 20.61it/s, train_loss=21.3]\n",
          "output_type": "stream"
        },
        {
          "name": "stdout",
          "text": "saved model to model.pth\n",
          "output_type": "stream"
        },
        {
          "name": "stderr",
          "text": "Epoch 29/50 (val): 100%|██████████| 16/16 [00:00<00:00, 39.75it/s, val_loss=17.4]\nEpoch 29/50 (train): 100%|██████████| 64/64 [00:03<00:00, 20.59it/s, train_loss=21.1]\n",
          "output_type": "stream"
        },
        {
          "name": "stdout",
          "text": "saved model to model.pth\n",
          "output_type": "stream"
        },
        {
          "name": "stderr",
          "text": "Epoch 30/50 (val): 100%|██████████| 16/16 [00:00<00:00, 38.54it/s, val_loss=17.2]\nEpoch 30/50 (train): 100%|██████████| 64/64 [00:03<00:00, 20.73it/s, train_loss=20.9]\n",
          "output_type": "stream"
        },
        {
          "name": "stdout",
          "text": "saved model to model.pth\n",
          "output_type": "stream"
        },
        {
          "name": "stderr",
          "text": "Epoch 31/50 (val): 100%|██████████| 16/16 [00:00<00:00, 39.40it/s, val_loss=17.1]\nEpoch 31/50 (train): 100%|██████████| 64/64 [00:03<00:00, 20.57it/s, train_loss=20.7]\n",
          "output_type": "stream"
        },
        {
          "name": "stdout",
          "text": "saved model to model.pth\n",
          "output_type": "stream"
        },
        {
          "name": "stderr",
          "text": "Epoch 32/50 (val): 100%|██████████| 16/16 [00:00<00:00, 39.47it/s, val_loss=16.9]\nEpoch 32/50 (train): 100%|██████████| 64/64 [00:03<00:00, 20.63it/s, train_loss=20.6]\n",
          "output_type": "stream"
        },
        {
          "name": "stdout",
          "text": "saved model to model.pth\n",
          "output_type": "stream"
        },
        {
          "name": "stderr",
          "text": "Epoch 33/50 (val): 100%|██████████| 16/16 [00:00<00:00, 38.60it/s, val_loss=16.8]\nEpoch 33/50 (train): 100%|██████████| 64/64 [00:03<00:00, 20.57it/s, train_loss=20.5]\n",
          "output_type": "stream"
        },
        {
          "name": "stdout",
          "text": "saved model to model.pth\n",
          "output_type": "stream"
        },
        {
          "name": "stderr",
          "text": "Epoch 34/50 (val): 100%|██████████| 16/16 [00:00<00:00, 39.13it/s, val_loss=16.6]\nEpoch 34/50 (train): 100%|██████████| 64/64 [00:03<00:00, 20.74it/s, train_loss=20.2]\n",
          "output_type": "stream"
        },
        {
          "name": "stdout",
          "text": "saved model to model.pth\n",
          "output_type": "stream"
        },
        {
          "name": "stderr",
          "text": "Epoch 35/50 (val): 100%|██████████| 16/16 [00:00<00:00, 39.12it/s, val_loss=16.5]\nEpoch 35/50 (train): 100%|██████████| 64/64 [00:03<00:00, 20.59it/s, train_loss=20.1]\n",
          "output_type": "stream"
        },
        {
          "name": "stdout",
          "text": "saved model to model.pth\n",
          "output_type": "stream"
        },
        {
          "name": "stderr",
          "text": "Epoch 36/50 (val): 100%|██████████| 16/16 [00:00<00:00, 39.36it/s, val_loss=16.4]\nEpoch 36/50 (train): 100%|██████████| 64/64 [00:03<00:00, 20.15it/s, train_loss=19.9]\n",
          "output_type": "stream"
        },
        {
          "name": "stdout",
          "text": "saved model to model.pth\n",
          "output_type": "stream"
        },
        {
          "name": "stderr",
          "text": "Epoch 37/50 (val): 100%|██████████| 16/16 [00:00<00:00, 36.39it/s, val_loss=16.3]\nEpoch 37/50 (train): 100%|██████████| 64/64 [00:03<00:00, 19.28it/s, train_loss=19.8]\n",
          "output_type": "stream"
        },
        {
          "name": "stdout",
          "text": "saved model to model.pth\n",
          "output_type": "stream"
        },
        {
          "name": "stderr",
          "text": "Epoch 38/50 (val): 100%|██████████| 16/16 [00:00<00:00, 36.77it/s, val_loss=16.1]\nEpoch 38/50 (train): 100%|██████████| 64/64 [00:03<00:00, 20.49it/s, train_loss=19.7]\n",
          "output_type": "stream"
        },
        {
          "name": "stdout",
          "text": "saved model to model.pth\n",
          "output_type": "stream"
        },
        {
          "name": "stderr",
          "text": "Epoch 39/50 (val): 100%|██████████| 16/16 [00:00<00:00, 38.07it/s, val_loss=16]  \nEpoch 39/50 (train): 100%|██████████| 64/64 [00:03<00:00, 20.34it/s, train_loss=19.5]\n",
          "output_type": "stream"
        },
        {
          "name": "stdout",
          "text": "saved model to model.pth\n",
          "output_type": "stream"
        },
        {
          "name": "stderr",
          "text": "Epoch 40/50 (val): 100%|██████████| 16/16 [00:00<00:00, 39.26it/s, val_loss=15.9]\nEpoch 40/50 (train): 100%|██████████| 64/64 [00:03<00:00, 20.19it/s, train_loss=19.4]\n",
          "output_type": "stream"
        },
        {
          "name": "stdout",
          "text": "saved model to model.pth\n",
          "output_type": "stream"
        },
        {
          "name": "stderr",
          "text": "Epoch 41/50 (val): 100%|██████████| 16/16 [00:00<00:00, 37.77it/s, val_loss=15.8]\nEpoch 41/50 (train): 100%|██████████| 64/64 [00:03<00:00, 20.50it/s, train_loss=19.3]\n",
          "output_type": "stream"
        },
        {
          "name": "stdout",
          "text": "saved model to model.pth\n",
          "output_type": "stream"
        },
        {
          "name": "stderr",
          "text": "Epoch 42/50 (val): 100%|██████████| 16/16 [00:00<00:00, 36.80it/s, val_loss=15.8]\n",
          "output_type": "stream"
        },
        {
          "name": "stdout",
          "text": "Changing learning rate to 0.010000000000000002\n",
          "output_type": "stream"
        },
        {
          "name": "stderr",
          "text": "Epoch 42/50 (train): 100%|██████████| 64/64 [00:03<00:00, 20.47it/s, train_loss=18.2]\nEpoch 43/50 (val): 100%|██████████| 16/16 [00:00<00:00, 37.20it/s, val_loss=14.6]\nEpoch 43/50 (train): 100%|██████████| 64/64 [00:03<00:00, 19.89it/s, train_loss=17.8]\n",
          "output_type": "stream"
        },
        {
          "name": "stdout",
          "text": "saved model to model.pth\n",
          "output_type": "stream"
        },
        {
          "name": "stderr",
          "text": "Epoch 44/50 (val): 100%|██████████| 16/16 [00:00<00:00, 37.11it/s, val_loss=14.5]\nEpoch 44/50 (train): 100%|██████████| 64/64 [00:03<00:00, 19.86it/s, train_loss=17.7]\n",
          "output_type": "stream"
        },
        {
          "name": "stdout",
          "text": "saved model to model.pth\n",
          "output_type": "stream"
        },
        {
          "name": "stderr",
          "text": "Epoch 45/50 (val): 100%|██████████| 16/16 [00:00<00:00, 39.36it/s, val_loss=14.4]\nEpoch 45/50 (train): 100%|██████████| 64/64 [00:03<00:00, 20.65it/s, train_loss=17.7]\n",
          "output_type": "stream"
        },
        {
          "name": "stdout",
          "text": "saved model to model.pth\n",
          "output_type": "stream"
        },
        {
          "name": "stderr",
          "text": "Epoch 46/50 (val): 100%|██████████| 16/16 [00:00<00:00, 38.09it/s, val_loss=14.4]\nEpoch 46/50 (train): 100%|██████████| 64/64 [00:03<00:00, 20.70it/s, train_loss=17.7]\n",
          "output_type": "stream"
        },
        {
          "name": "stdout",
          "text": "saved model to model.pth\n",
          "output_type": "stream"
        },
        {
          "name": "stderr",
          "text": "Epoch 47/50 (val): 100%|██████████| 16/16 [00:00<00:00, 39.61it/s, val_loss=14.4]\nEpoch 47/50 (train): 100%|██████████| 64/64 [00:03<00:00, 20.74it/s, train_loss=17.7]\n",
          "output_type": "stream"
        },
        {
          "name": "stdout",
          "text": "saved model to model.pth\n",
          "output_type": "stream"
        },
        {
          "name": "stderr",
          "text": "Epoch 48/50 (val): 100%|██████████| 16/16 [00:00<00:00, 36.97it/s, val_loss=14.4]\nEpoch 48/50 (train): 100%|██████████| 64/64 [00:03<00:00, 20.26it/s, train_loss=17.7]\n",
          "output_type": "stream"
        },
        {
          "name": "stdout",
          "text": "saved model to model.pth\n",
          "output_type": "stream"
        },
        {
          "name": "stderr",
          "text": "Epoch 49/50 (val): 100%|██████████| 16/16 [00:00<00:00, 38.55it/s, val_loss=14.4]\nEpoch 49/50 (train): 100%|██████████| 64/64 [00:03<00:00, 20.38it/s, train_loss=17.6]\n",
          "output_type": "stream"
        },
        {
          "name": "stdout",
          "text": "saved model to model.pth\n",
          "output_type": "stream"
        },
        {
          "name": "stderr",
          "text": "Epoch 50/50 (val): 100%|██████████| 16/16 [00:00<00:00, 38.96it/s, val_loss=14.4]\nEpoch 50/50 (train): 100%|██████████| 64/64 [00:03<00:00, 20.50it/s, train_loss=17.6]\n",
          "output_type": "stream"
        },
        {
          "name": "stdout",
          "text": "saved model to model.pth\n",
          "output_type": "stream"
        }
      ]
    },
    {
      "cell_type": "code",
      "source": [
        "try:\n",
        "    del model\n",
        "    print(\"deleted model\")\n",
        "except:\n",
        "    None\n",
        "torch.cuda.empty_cache()"
      ],
      "metadata": {
        "id": "EZ6YgBVBfWTJ",
        "execution": {
          "iopub.status.busy": "2024-03-31T09:30:39.288431Z",
          "iopub.execute_input": "2024-03-31T09:30:39.289071Z",
          "iopub.status.idle": "2024-03-31T09:30:39.316143Z",
          "shell.execute_reply.started": "2024-03-31T09:30:39.289038Z",
          "shell.execute_reply": "2024-03-31T09:30:39.315248Z"
        },
        "trusted": true,
        "outputId": "a488eaa2-1b4e-418b-feca-18d169696210"
      },
      "execution_count": null,
      "outputs": [
        {
          "name": "stdout",
          "text": "deleted model\n",
          "output_type": "stream"
        }
      ]
    },
    {
      "cell_type": "markdown",
      "source": [
        "## comparing all three features"
      ],
      "metadata": {
        "id": "aQfQ0ueG2zlD"
      }
    },
    {
      "cell_type": "code",
      "source": [
        "model = VAE(latent_dim).to(device)\n",
        "model.load_state_dict(torch.load(\"model.pth\"))\n",
        "import random\n",
        "model.eval()\n",
        "r = random.randint(0,500)\n",
        "dataset = Data(test_imgs)\n",
        "imgorig = dataset[r]\n",
        "imgrecons = model(imgorig.unsqueeze(0).to(device))[0]\n",
        "recon_batch, mu, log_var = model(imgorig.unsqueeze(0).to(device))\n",
        "loss = reconstruction_loss(recon_batch, imgorig.unsqueeze(0).to(device))\n",
        "print(loss)\n",
        "kl_divergence = -0.5 * torch.sum(1 + log_var - mu.pow(2) - log_var.exp())\n",
        "loss += kl_divergence\n",
        "print(loss)\n",
        "# print(np.array(imgrecons.cpu()).shape)\n",
        "pltorig = imgorig.permute(1,2,0).cpu().numpy()[:125,:125,:]\n",
        "pltrecons = imgrecons.permute(0,2,3,1).detach().cpu().numpy()[0][:125,:125,:]\n",
        "fig, axs = plt.subplots(1, 3, figsize=(15, 5))\n",
        "\n",
        "axs[0].imshow(pltorig[:,:,0])\n",
        "axs[0].set_title('original Channel 0')\n",
        "\n",
        "axs[1].imshow(pltorig[:,:,1])\n",
        "axs[1].set_title('original Channel 1')\n",
        "\n",
        "axs[2].imshow(pltorig[:,:,2])\n",
        "axs[2].set_title('original Channel 2')\n",
        "plt.show()"
      ],
      "metadata": {
        "id": "qPfcBQQLfWQ-",
        "execution": {
          "iopub.status.busy": "2024-03-31T09:30:42.015915Z",
          "iopub.execute_input": "2024-03-31T09:30:42.016387Z",
          "iopub.status.idle": "2024-03-31T09:30:42.780152Z",
          "shell.execute_reply.started": "2024-03-31T09:30:42.016348Z",
          "shell.execute_reply": "2024-03-31T09:30:42.779164Z"
        },
        "trusted": true,
        "outputId": "ea565520-0daa-4fbb-f109-7c5469c3ec58"
      },
      "execution_count": null,
      "outputs": [
        {
          "name": "stdout",
          "text": "tensor(0.0473, device='cuda:0', grad_fn=<MseLossBackward0>)\ntensor(0.0473, device='cuda:0', grad_fn=<AddBackward0>)\n",
          "output_type": "stream"
        },
        {
          "output_type": "display_data",
          "data": {
            "text/plain": "<Figure size 1500x500 with 3 Axes>",
            "image/png": "[encoded data removed]"
          },
          "metadata": {}
        }
      ]
    },
    {
      "cell_type": "code",
      "source": [
        "import matplotlib.pyplot as plt\n",
        "\n",
        "fig, axs = plt.subplots(1, 3, figsize=(15, 5))\n",
        "\n",
        "axs[0].imshow(pltrecons[:,:,0])\n",
        "axs[0].set_title('Reconstructed Channel 0')\n",
        "\n",
        "axs[1].imshow(pltrecons[:,:,1])\n",
        "axs[1].set_title('Reconstructed Channel 1')\n",
        "\n",
        "axs[2].imshow(pltrecons[:,:,2])\n",
        "axs[2].set_title('Reconstructed Channel 2')\n",
        "plt.show()"
      ],
      "metadata": {
        "id": "MpZDLkAjfWO3",
        "execution": {
          "iopub.status.busy": "2024-03-31T09:30:42.782296Z",
          "iopub.execute_input": "2024-03-31T09:30:42.782804Z",
          "iopub.status.idle": "2024-03-31T09:30:43.555105Z",
          "shell.execute_reply.started": "2024-03-31T09:30:42.782767Z",
          "shell.execute_reply": "2024-03-31T09:30:43.554242Z"
        },
        "trusted": true,
        "outputId": "60eeecde-b319-4c40-ee3a-eed1c5062608"
      },
      "execution_count": null,
      "outputs": [
        {
          "output_type": "display_data",
          "data": {
            "text/plain": "<Figure size 1500x500 with 3 Axes>",
            "image/png": "[encoded data removed]"
          },
          "metadata": {}
        }
      ]
    },
    {
      "cell_type": "code",
      "source": [],
      "metadata": {
        "id": "9qJp-h9afWMe"
      },
      "execution_count": null,
      "outputs": []
    },
    {
      "cell_type": "code",
      "source": [],
      "metadata": {
        "id": "VXnSVA3V2zlF"
      },
      "execution_count": null,
      "outputs": []
    }
  ]
}